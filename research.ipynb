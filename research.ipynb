{
 "cells": [
  {
   "cell_type": "code",
   "execution_count": null,
   "metadata": {
    "vscode": {
     "languageId": "plaintext"
    }
   },
   "outputs": [],
   "source": [
    "import pandas as pd\n",
    "import numpy as np\n",
    "import tensorflow as tf\n",
    "from sklearn.model_selection import train_test_split\n",
    "from sklearn.preprocessing import StandardScaler\n",
    "from imblearn.over_sampling import SMOTE\n",
    "import pickle\n",
    "import os"
   ]
  },
  {
   "cell_type": "code",
   "execution_count": null,
   "metadata": {
    "vscode": {
     "languageId": "plaintext"
    }
   },
   "outputs": [],
   "source": [
    "model = tf.keras.Sequential([\n",
    "            # Input layer with L2 regularization\n",
    "            tf.keras.layers.Dense(\n",
    "                32, \n",
    "                activation='relu',\n",
    "                input_dim=input_dim,\n",
    "                kernel_regularizer=tf.keras.regularizers.l2(0.01)\n",
    "            ),\n",
    "            tf.keras.layers.BatchNormalization(),\n",
    "            tf.keras.layers.Dropout(0.2),\n",
    "            \n",
    "            # Hidden layer 1\n",
    "            tf.keras.layers.Dense(\n",
    "                16, \n",
    "                activation='relu',\n",
    "                kernel_regularizer=tf.keras.regularizers.l2(0.01)\n",
    "            ),\n",
    "            tf.keras.layers.BatchNormalization(),\n",
    "            tf.keras.layers.Dropout(0.2),\n",
    "            \n",
    "            # Hidden layer 2 with smaller size\n",
    "            tf.keras.layers.Dense(\n",
    "                8, \n",
    "                activation='relu',\n",
    "                kernel_regularizer=tf.keras.regularizers.l2(0.01)\n",
    "            ),\n",
    "            tf.keras.layers.BatchNormalization(),\n",
    "            tf.keras.layers.Dropout(0.1),\n",
    "            \n",
    "            # Output layer with reduced complexity\n",
    "            tf.keras.layers.Dense(1, activation='sigmoid')\n",
    "        ])"
   ]
  },
  {
   "cell_type": "code",
   "execution_count": null,
   "metadata": {
    "vscode": {
     "languageId": "plaintext"
    }
   },
   "outputs": [],
   "source": [
    "optimizer = tf.keras.optimizers.Adam(learning_rate=0.001)\n",
    "        \n",
    "        model.compile(\n",
    "            optimizer=optimizer,\n",
    "            loss='binary_crossentropy',\n",
    "            metrics=['accuracy', tf.keras.metrics.AUC()]\n",
    "        )"
   ]
  },
  {
   "cell_type": "code",
   "execution_count": null,
   "metadata": {
    "vscode": {
     "languageId": "plaintext"
    }
   },
   "outputs": [],
   "source": [
    "def train(self, data_path):\n",
    "        # Load and prepare data\n",
    "        df = pd.read_csv(data_path)\n",
    "        \n",
    "        # Separate features and target\n",
    "        X = df.drop('fraud', axis=1)\n",
    "        y = df['fraud']\n",
    "        \n",
    "        # Split data\n",
    "        X_train, X_test, y_train, y_test = train_test_split(\n",
    "            X, y, test_size=0.2, random_state=42, stratify=y\n",
    "        )\n",
    "        \n",
    "        # Scale features\n",
    "        X_train_scaled = self.scaler.fit_transform(X_train)\n",
    "        X_test_scaled = self.scaler.transform(X_test)\n",
    "        \n",
    "        # Apply SMOTE with lower sampling_strategy\n",
    "        smote = SMOTE(sampling_strategy=0.5, random_state=42)  # Create minority class at 50% of majority\n",
    "        X_train_balanced, y_train_balanced = smote.fit_resample(X_train_scaled, y_train)\n",
    "        \n",
    "        # Create and train model\n",
    "        self.model = self.create_model(X_train_balanced.shape[1])\n",
    "        \n",
    "        # Add early stopping with higher patience\n",
    "        early_stopping = tf.keras.callbacks.EarlyStopping(\n",
    "            monitor='val_loss',\n",
    "            patience=10,\n",
    "            restore_best_weights=True\n",
    "        )\n",
    "        \n",
    "        # Train with class weights to handle imbalance\n",
    "        class_weight = {0: 1., 1: 2.}  # Give more weight to fraud class\n",
    "        \n",
    "        self.history = self.model.fit(\n",
    "            X_train_balanced,\n",
    "            y_train_balanced,\n",
    "            epochs=5,\n",
    "            batch_size=64,\n",
    "            validation_split=0.2,\n",
    "            callbacks=[early_stopping],\n",
    "            class_weight=class_weight,\n",
    "            verbose=1\n",
    "        )\n",
    "        \n",
    "        # Save model and scaler\n",
    "        self.model.save('model/best_model.h5')\n",
    "        with open('model/scaler.pkl', 'wb') as f:\n",
    "            pickle.dump(self.scaler, f)\n",
    "        \n",
    "        # Test predictions\n",
    "        test_pred_probs = self.model.predict(X_test_scaled)\n",
    "        print(\"\\nSample of prediction probabilities:\")\n",
    "        print(test_pred_probs[:10])"
   ]
  },
  {
   "cell_type": "code",
   "execution_count": null,
   "metadata": {
    "vscode": {
     "languageId": "plaintext"
    }
   },
   "outputs": [],
   "source": [
    "model.train('data/card_transdata.csv')"
   ]
  }
 ],
 "metadata": {
  "language_info": {
   "name": "python"
  }
 },
 "nbformat": 4,
 "nbformat_minor": 2
}
